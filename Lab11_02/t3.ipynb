{
 "cells": [
  {
   "cell_type": "code",
   "execution_count": 1,
   "id": "874dd00c-4de5-4f19-84f4-fcf9967dc336",
   "metadata": {},
   "outputs": [],
   "source": [
    "#Microaggregation\n",
    "\n",
    "import pandas as pd\n",
    "import numpy as np"
   ]
  },
  {
   "cell_type": "code",
   "execution_count": 2,
   "id": "b96bd538-5fcb-4575-bbc2-a866cbd417ca",
   "metadata": {},
   "outputs": [],
   "source": [
    "# Load dataset\n",
    "df = pd.read_csv(\"adult.csv\")"
   ]
  },
  {
   "cell_type": "code",
   "execution_count": 3,
   "id": "5c78bf93-1440-4dbd-8b67-a64bc04ec80c",
   "metadata": {},
   "outputs": [],
   "source": [
    "# Normalize column names (fixes dashes, spaces, and case issues)\n",
    "df.columns = df.columns.str.strip().str.lower().str.replace(\"-\", \"_\")\n",
    "\n",
    "# Select numerical columns for microaggregation\n",
    "numerical_columns = [\"age\", \"hours_per_week\", \"capital_gain\", \"capital_loss\"]\n",
    "\n",
    "# Define group size for microaggregation (k-anonymity parameter)\n",
    "k = 5  # Ensures each group has at least 5 records"
   ]
  },
  {
   "cell_type": "code",
   "execution_count": 4,
   "id": "6843b8da-9520-4dcf-afee-004efb4020cb",
   "metadata": {},
   "outputs": [
    {
     "name": "stdout",
     "output_type": "stream",
     "text": [
      "Original Dataset (First 5 rows):\n",
      "    age         workclass  fnlwgt     education  education_num  \\\n",
      "0    39         State-gov   77516     Bachelors             13   \n",
      "1    50  Self-emp-not-inc   83311     Bachelors             13   \n",
      "2    38           Private  215646       HS-grad              9   \n",
      "3    53           Private  234721          11th              7   \n",
      "4    28           Private  338409     Bachelors             13   \n",
      "..  ...               ...     ...           ...            ...   \n",
      "95   29         Local-gov  115585  Some-college             10   \n",
      "96   48  Self-emp-not-inc  191277     Doctorate             16   \n",
      "97   37           Private  202683  Some-college             10   \n",
      "98   48           Private  171095    Assoc-acdm             12   \n",
      "99   32       Federal-gov  249409       HS-grad              9   \n",
      "\n",
      "        marital_status         occupation   relationship   race     sex  \\\n",
      "0        Never-married       Adm-clerical  Not-in-family  White    Male   \n",
      "1   Married-civ-spouse    Exec-managerial        Husband  White    Male   \n",
      "2             Divorced  Handlers-cleaners  Not-in-family  White    Male   \n",
      "3   Married-civ-spouse  Handlers-cleaners        Husband  Black    Male   \n",
      "4   Married-civ-spouse     Prof-specialty           Wife  Black  Female   \n",
      "..                 ...                ...            ...    ...     ...   \n",
      "95       Never-married  Handlers-cleaners  Not-in-family  White    Male   \n",
      "96  Married-civ-spouse     Prof-specialty        Husband  White    Male   \n",
      "97  Married-civ-spouse              Sales        Husband  White    Male   \n",
      "98            Divorced    Exec-managerial      Unmarried  White  Female   \n",
      "99       Never-married      Other-service      Own-child  Black    Male   \n",
      "\n",
      "    capital_gain  capital_loss  hours_per_week native_country income  \n",
      "0           2174             0              40  United-States  <=50K  \n",
      "1              0             0              13  United-States  <=50K  \n",
      "2              0             0              40  United-States  <=50K  \n",
      "3              0             0              40  United-States  <=50K  \n",
      "4              0             0              40           Cuba  <=50K  \n",
      "..           ...           ...             ...            ...    ...  \n",
      "95             0             0              50  United-States  <=50K  \n",
      "96             0          1902              60  United-States   >50K  \n",
      "97             0             0              48  United-States   >50K  \n",
      "98             0             0              40        England  <=50K  \n",
      "99             0             0              40  United-States  <=50K  \n",
      "\n",
      "[100 rows x 15 columns]\n"
     ]
    }
   ],
   "source": [
    "# Display original dataset before perturbation (first 5 rows)\n",
    "print(\"Original Dataset (First 5 rows):\")\n",
    "print(df[df.columns.tolist()].head(100))"
   ]
  },
  {
   "cell_type": "code",
   "execution_count": 5,
   "id": "984851b3-21a8-4e5f-9062-6dfe65ce0cfb",
   "metadata": {},
   "outputs": [],
   "source": [
    "# Function to apply microaggregation to a numerical column\n",
    "def microaggregate(series, k):\n",
    "    sorted_series = series.sort_values().reset_index()\n",
    "    grouped_values = np.array(sorted_series[series.name])  # Extract values\n",
    "\n",
    "    # Apply microaggregation (group mean)\n",
    "    for i in range(0, len(grouped_values), k):\n",
    "        grouped_values[i:i + k] = np.mean(grouped_values[i:i + k])\n",
    "\n",
    "    # Assign back to original DataFrame\n",
    "    series_aggregated = pd.Series(grouped_values, index=sorted_series[\"index\"])\n",
    "    return series_aggregated.sort_index()\n"
   ]
  },
  {
   "cell_type": "code",
   "execution_count": 6,
   "id": "7c688176-451d-44c8-bc7b-df8c4354af8c",
   "metadata": {},
   "outputs": [],
   "source": [
    "# Apply microaggregation to selected numerical columns\n",
    "for col in numerical_columns:\n",
    "    df[col + \"_microaggregated\"] = microaggregate(df[col], k)\n",
    "\n",
    "#  Identify affected rows (where values changed)\n",
    "df[\"affected\"] = False\n",
    "for col in numerical_columns:\n",
    "    df[\"affected\"] |= df[col] != df[col + \"_microaggregated\"]\n",
    "\n",
    "# Extract affected rows\n",
    "affected_rows = df[df[\"affected\"]]"
   ]
  },
  {
   "cell_type": "code",
   "execution_count": 7,
   "id": "af3d3c4e-770b-47ed-9327-fc395e848aa7",
   "metadata": {},
   "outputs": [
    {
     "name": "stdout",
     "output_type": "stream",
     "text": [
      "\n",
      "🔹 Affected Rows (First 10 rows where values changed):\n",
      "    age  hours_per_week  capital_gain  capital_loss  age_microaggregated  \\\n",
      "7    52              45             0             0                   52   \n",
      "8    31              50         14084             0                   30   \n",
      "9    42              40          5178             0                   42   \n",
      "12   23              30             0             0                   23   \n",
      "23   43              40             0          2042                   43   \n",
      "27   54              60             0             0                   53   \n",
      "29   49              40             0             0                   49   \n",
      "30   23              52             0             0                   23   \n",
      "31   20              44             0             0                   19   \n",
      "35   48              40             0             0                   47   \n",
      "\n",
      "    hours_per_week_microaggregated  capital_gain_microaggregated  \\\n",
      "7                               44                             0   \n",
      "8                               50                         14084   \n",
      "9                               40                          5088   \n",
      "12                              29                             0   \n",
      "23                              40                             0   \n",
      "27                              60                             0   \n",
      "29                              39                             0   \n",
      "30                              51                             0   \n",
      "31                              44                             0   \n",
      "35                              40                             0   \n",
      "\n",
      "    capital_loss_microaggregated  \n",
      "7                              0  \n",
      "8                              0  \n",
      "9                              0  \n",
      "12                             0  \n",
      "23                          2034  \n",
      "27                             0  \n",
      "29                             0  \n",
      "30                             0  \n",
      "31                             0  \n",
      "35                             0  \n"
     ]
    }
   ],
   "source": [
    "# Display first few affected rows\n",
    "print(\"\\n🔹 Affected Rows (First 10 rows where values changed):\")\n",
    "print(affected_rows[numerical_columns + [col + \"_microaggregated\" for col in numerical_columns]].head(10))"
   ]
  },
  {
   "cell_type": "code",
   "execution_count": 8,
   "id": "bfc762c6-855b-4c69-a8c0-3cb56420000b",
   "metadata": {},
   "outputs": [
    {
     "name": "stdout",
     "output_type": "stream",
     "text": [
      "\n",
      "✅ Microaggregation Applied. File saved as 'adult_microaggregated.csv'.\n"
     ]
    }
   ],
   "source": [
    "# Save the microaggregated dataset\n",
    "df.to_csv(\"adult_microaggregated.csv\", index=False)\n",
    "\n",
    "print(\"\\n✅ Microaggregation Applied. File saved as 'adult_microaggregated.csv'.\")"
   ]
  }
 ],
 "metadata": {
  "kernelspec": {
   "display_name": "Python 3 (ipykernel)",
   "language": "python",
   "name": "python3"
  },
  "language_info": {
   "codemirror_mode": {
    "name": "ipython",
    "version": 3
   },
   "file_extension": ".py",
   "mimetype": "text/x-python",
   "name": "python",
   "nbconvert_exporter": "python",
   "pygments_lexer": "ipython3",
   "version": "3.13.1"
  }
 },
 "nbformat": 4,
 "nbformat_minor": 5
}
