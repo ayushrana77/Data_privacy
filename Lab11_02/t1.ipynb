{
 "cells": [
  {
   "cell_type": "code",
   "execution_count": 1,
   "id": "3b2c9a0a-ec19-4385-8690-d86570a1a3ef",
   "metadata": {},
   "outputs": [],
   "source": [
    "import pandas as pd\n",
    "import numpy as np\n"
   ]
  },
  {
   "cell_type": "code",
   "execution_count": 2,
   "id": "b4560524-34aa-4610-bbd5-859be1c30800",
   "metadata": {},
   "outputs": [
    {
     "name": "stdout",
     "output_type": "stream",
     "text": [
      "Original Dataset (First 5 rows):\n",
      "    age         workclass  fnlwgt     education  education_num  \\\n",
      "0    39         State-gov   77516     Bachelors             13   \n",
      "1    50  Self-emp-not-inc   83311     Bachelors             13   \n",
      "2    38           Private  215646       HS-grad              9   \n",
      "3    53           Private  234721          11th              7   \n",
      "4    28           Private  338409     Bachelors             13   \n",
      "..  ...               ...     ...           ...            ...   \n",
      "95   29         Local-gov  115585  Some-college             10   \n",
      "96   48  Self-emp-not-inc  191277     Doctorate             16   \n",
      "97   37           Private  202683  Some-college             10   \n",
      "98   48           Private  171095    Assoc-acdm             12   \n",
      "99   32       Federal-gov  249409       HS-grad              9   \n",
      "\n",
      "        marital_status         occupation   relationship   race     sex  \\\n",
      "0        Never-married       Adm-clerical  Not-in-family  White    Male   \n",
      "1   Married-civ-spouse    Exec-managerial        Husband  White    Male   \n",
      "2             Divorced  Handlers-cleaners  Not-in-family  White    Male   \n",
      "3   Married-civ-spouse  Handlers-cleaners        Husband  Black    Male   \n",
      "4   Married-civ-spouse     Prof-specialty           Wife  Black  Female   \n",
      "..                 ...                ...            ...    ...     ...   \n",
      "95       Never-married  Handlers-cleaners  Not-in-family  White    Male   \n",
      "96  Married-civ-spouse     Prof-specialty        Husband  White    Male   \n",
      "97  Married-civ-spouse              Sales        Husband  White    Male   \n",
      "98            Divorced    Exec-managerial      Unmarried  White  Female   \n",
      "99       Never-married      Other-service      Own-child  Black    Male   \n",
      "\n",
      "    capital_gain  capital_loss  hours_per_week native_country income  \n",
      "0           2174             0              40  United-States  <=50K  \n",
      "1              0             0              13  United-States  <=50K  \n",
      "2              0             0              40  United-States  <=50K  \n",
      "3              0             0              40  United-States  <=50K  \n",
      "4              0             0              40           Cuba  <=50K  \n",
      "..           ...           ...             ...            ...    ...  \n",
      "95             0             0              50  United-States  <=50K  \n",
      "96             0          1902              60  United-States   >50K  \n",
      "97             0             0              48  United-States   >50K  \n",
      "98             0             0              40        England  <=50K  \n",
      "99             0             0              40  United-States  <=50K  \n",
      "\n",
      "[100 rows x 15 columns]\n"
     ]
    }
   ],
   "source": [
    "# Load dataset\n",
    "df = pd.read_csv(\"adult.csv\")\n",
    "\n",
    "# Select numerical columns to perturb\n",
    "numerical_columns = [\"age\", \"hours_per_week\", \"capital_gain\", \"capital_loss\"]\n",
    "\n",
    "# Display original dataset before perturbation (first 5 rows)\n",
    "print(\"Original Dataset (First 5 rows):\")\n",
    "print(df[df.columns.tolist()].head(100))"
   ]
  },
  {
   "cell_type": "code",
   "execution_count": 3,
   "id": "4bc916e9-880a-403c-958a-67eeb74fdda8",
   "metadata": {},
   "outputs": [],
   "source": [
    "# Define noise parameters (Standard deviation for each attribute)\n",
    "noise_params = {\n",
    "    \"age\": 5,\n",
    "    \"hours_per_week\": 5,\n",
    "    \"capital_gain\": 1000,  # Higher noise for financial data\n",
    "    \"capital_loss\": 500\n",
    "}"
   ]
  },
  {
   "cell_type": "code",
   "execution_count": 4,
   "id": "f8b7045d-00fa-4b43-9560-20aaab2f4108",
   "metadata": {},
   "outputs": [],
   "source": [
    "# Apply noise to each selected column\n",
    "for col in numerical_columns:\n",
    "    df[col + \"_perturbed\"] = df[col] + np.random.normal(0, noise_params[col], df.shape[0])\n",
    "\n",
    "    # Ensure values remain within reasonable bounds (e.g., no negative ages or financial values)\n",
    "    df[col + \"_perturbed\"] = df[col + \"_perturbed\"].clip(lower=0)\n",
    "\n",
    "# Extract perturbed columns and rename them to match original column names\n",
    "df_perturbed = df[[col + \"_perturbed\" for col in numerical_columns]].copy()\n",
    "df_perturbed.columns = numerical_columns  # Rename to match original column names"
   ]
  },
  {
   "cell_type": "code",
   "execution_count": 5,
   "id": "be362eb4-4621-470c-bc41-83101cf3eda8",
   "metadata": {},
   "outputs": [],
   "source": [
    "# Identify affected rows where at least one value has changed\n",
    "df[\"affected\"] = (df[numerical_columns] != df_perturbed).any(axis=1)\n",
    "\n",
    "# Extract only the affected rows\n",
    "affected_rows = df[df[\"affected\"]]"
   ]
  },
  {
   "cell_type": "code",
   "execution_count": 6,
   "id": "4fe67435-db8e-47b1-aadb-7f47d8515104",
   "metadata": {},
   "outputs": [
    {
     "name": "stdout",
     "output_type": "stream",
     "text": [
      "    age  hours_per_week  capital_gain  capital_loss  age_perturbed  \\\n",
      "0    39              40          2174             0      39.823239   \n",
      "1    50              13             0             0      61.816262   \n",
      "2    38              40             0             0      38.422463   \n",
      "3    53              40             0             0      56.128772   \n",
      "4    28              40             0             0      29.043660   \n",
      "..  ...             ...           ...           ...            ...   \n",
      "95   29              50             0             0      35.301448   \n",
      "96   48              60             0          1902      43.657491   \n",
      "97   37              48             0             0      32.461603   \n",
      "98   48              40             0             0      49.576797   \n",
      "99   32              40             0             0      24.967738   \n",
      "\n",
      "    hours_per_week_perturbed  capital_gain_perturbed  capital_loss_perturbed  \n",
      "0                  46.650190             1719.361055                0.000000  \n",
      "1                  16.157309                0.000000              440.091910  \n",
      "2                  33.112590                0.000000               15.872228  \n",
      "3                  40.499758                0.000000               80.947909  \n",
      "4                  31.633784                0.000000                0.000000  \n",
      "..                       ...                     ...                     ...  \n",
      "95                 53.971447             1247.073706              640.875339  \n",
      "96                 52.318290                0.000000             1649.529427  \n",
      "97                 41.882412              864.321769                0.000000  \n",
      "98                 39.209841                0.000000              206.205574  \n",
      "99                 40.975302                0.000000                0.000000  \n",
      "\n",
      "[100 rows x 8 columns]\n"
     ]
    }
   ],
   "source": [
    "# Display the first few affected rows with changes\n",
    "print(affected_rows[numerical_columns + [col + \"_perturbed\" for col in numerical_columns]].head(100))"
   ]
  },
  {
   "cell_type": "code",
   "execution_count": 7,
   "id": "71e79653-38e1-4087-b478-871c528e13ea",
   "metadata": {},
   "outputs": [
    {
     "name": "stdout",
     "output_type": "stream",
     "text": [
      "\n",
      " Additive Noise Perturbation Applied. File saved as 'adult_noisy.csv'.\n"
     ]
    }
   ],
   "source": [
    "# Save the perturbed dataset\n",
    "df.to_csv(\"adult_noisy.csv\", index=False)\n",
    "\n",
    "print(\"\\n Additive Noise Perturbation Applied. File saved as 'adult_noisy.csv'.\")"
   ]
  }
 ],
 "metadata": {
  "kernelspec": {
   "display_name": "Python 3 (ipykernel)",
   "language": "python",
   "name": "python3"
  },
  "language_info": {
   "codemirror_mode": {
    "name": "ipython",
    "version": 3
   },
   "file_extension": ".py",
   "mimetype": "text/x-python",
   "name": "python",
   "nbconvert_exporter": "python",
   "pygments_lexer": "ipython3",
   "version": "3.13.1"
  }
 },
 "nbformat": 4,
 "nbformat_minor": 5
}
