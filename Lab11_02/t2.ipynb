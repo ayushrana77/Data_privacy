{
 "cells": [
  {
   "cell_type": "code",
   "execution_count": 1,
   "id": "e6f9c2db-1533-4482-ae1d-fce9063c424a",
   "metadata": {},
   "outputs": [],
   "source": [
    "import pandas as pd\n",
    "import numpy as np"
   ]
  },
  {
   "cell_type": "code",
   "execution_count": 2,
   "id": "bde8cb3b-85da-42c1-b2b9-3d03960cf213",
   "metadata": {},
   "outputs": [],
   "source": [
    "# Load dataset\n",
    "df = pd.read_csv(\"adult.csv\")\n",
    "\n",
    "# Normalize column names (fixes dashes, spaces, and case issues)\n",
    "df.columns = df.columns.str.strip().str.lower().str.replace(\"-\", \"_\")"
   ]
  },
  {
   "cell_type": "code",
   "execution_count": 3,
   "id": "59e30217-122a-4b99-ad97-9c41825f70ef",
   "metadata": {},
   "outputs": [
    {
     "name": "stdout",
     "output_type": "stream",
     "text": [
      "Available columns in dataset: ['age', 'workclass', 'fnlwgt', 'education', 'education_num', 'marital_status', 'occupation', 'relationship', 'race', 'sex', 'capital_gain', 'capital_loss', 'hours_per_week', 'native_country', 'income']\n"
     ]
    }
   ],
   "source": [
    "# Print available columns to verify correct names\n",
    "print(\"Available columns in dataset:\", df.columns.tolist())"
   ]
  },
  {
   "cell_type": "code",
   "execution_count": 4,
   "id": "12bc7e4c-0e32-4a9b-9318-b1ae5853d39c",
   "metadata": {},
   "outputs": [
    {
     "name": "stdout",
     "output_type": "stream",
     "text": [
      "Original Dataset (First 5 rows):\n",
      "    age         workclass  fnlwgt     education  education_num  \\\n",
      "0    39         State-gov   77516     Bachelors             13   \n",
      "1    50  Self-emp-not-inc   83311     Bachelors             13   \n",
      "2    38           Private  215646       HS-grad              9   \n",
      "3    53           Private  234721          11th              7   \n",
      "4    28           Private  338409     Bachelors             13   \n",
      "..  ...               ...     ...           ...            ...   \n",
      "95   29         Local-gov  115585  Some-college             10   \n",
      "96   48  Self-emp-not-inc  191277     Doctorate             16   \n",
      "97   37           Private  202683  Some-college             10   \n",
      "98   48           Private  171095    Assoc-acdm             12   \n",
      "99   32       Federal-gov  249409       HS-grad              9   \n",
      "\n",
      "        marital_status         occupation   relationship   race     sex  \\\n",
      "0        Never-married       Adm-clerical  Not-in-family  White    Male   \n",
      "1   Married-civ-spouse    Exec-managerial        Husband  White    Male   \n",
      "2             Divorced  Handlers-cleaners  Not-in-family  White    Male   \n",
      "3   Married-civ-spouse  Handlers-cleaners        Husband  Black    Male   \n",
      "4   Married-civ-spouse     Prof-specialty           Wife  Black  Female   \n",
      "..                 ...                ...            ...    ...     ...   \n",
      "95       Never-married  Handlers-cleaners  Not-in-family  White    Male   \n",
      "96  Married-civ-spouse     Prof-specialty        Husband  White    Male   \n",
      "97  Married-civ-spouse              Sales        Husband  White    Male   \n",
      "98            Divorced    Exec-managerial      Unmarried  White  Female   \n",
      "99       Never-married      Other-service      Own-child  Black    Male   \n",
      "\n",
      "    capital_gain  capital_loss  hours_per_week native_country income  \n",
      "0           2174             0              40  United-States  <=50K  \n",
      "1              0             0              13  United-States  <=50K  \n",
      "2              0             0              40  United-States  <=50K  \n",
      "3              0             0              40  United-States  <=50K  \n",
      "4              0             0              40           Cuba  <=50K  \n",
      "..           ...           ...             ...            ...    ...  \n",
      "95             0             0              50  United-States  <=50K  \n",
      "96             0          1902              60  United-States   >50K  \n",
      "97             0             0              48  United-States   >50K  \n",
      "98             0             0              40        England  <=50K  \n",
      "99             0             0              40  United-States  <=50K  \n",
      "\n",
      "[100 rows x 15 columns]\n"
     ]
    }
   ],
   "source": [
    "# Display original dataset before perturbation (first 5 rows)\n",
    "print(\"Original Dataset (First 5 rows):\")\n",
    "print(df[df.columns.tolist()].head(100))"
   ]
  },
  {
   "cell_type": "code",
   "execution_count": 5,
   "id": "b6bc415c-ebd6-462b-b352-c12afe2b64c9",
   "metadata": {},
   "outputs": [],
   "source": [
    "# Choose categorical columns for swapping\n",
    "categorical_columns = [\"workclass\", \"education\", \"marital_status\", \"occupation\"]\n",
    "\n",
    "# Probability of swapping a value\n",
    "swap_prob = 0.2  # 20% chance of swapping each categorical value"
   ]
  },
  {
   "cell_type": "code",
   "execution_count": 6,
   "id": "4483cd5c-106d-46ea-9190-c77a82da4066",
   "metadata": {},
   "outputs": [],
   "source": [
    "# Function to perform randomized response (data swapping)\n",
    "def swap_values(series, swap_prob):\n",
    "    n = len(series)\n",
    "    swap_mask = np.random.rand(n) < swap_prob  # Create a mask for swapping\n",
    "    shuffled_series = series.sample(frac=1, random_state=42).reset_index(drop=True)  # Shuffle column values\n",
    "\n",
    "    # Apply swapping based on the mask\n",
    "    swapped_series = series.copy()\n",
    "    swapped_series.loc[swap_mask] = shuffled_series.loc[swap_mask]\n",
    "    \n",
    "    return swapped_series"
   ]
  },
  {
   "cell_type": "code",
   "execution_count": 7,
   "id": "b439c58d-76eb-4036-bb31-308882756e13",
   "metadata": {},
   "outputs": [],
   "source": [
    "# Apply swapping to selected categorical columns\n",
    "for col in categorical_columns:\n",
    "    df[col + \"_swapped\"] = swap_values(df[col], swap_prob)\n",
    "\n",
    "#  Ensure index alignment for comparison\n",
    "df = df.reset_index(drop=True)"
   ]
  },
  {
   "cell_type": "code",
   "execution_count": 8,
   "id": "3419d430-c1bd-4099-911b-1e529a5973ba",
   "metadata": {},
   "outputs": [],
   "source": [
    "#  Create affected column correctly\n",
    "df[\"affected\"] = False\n",
    "for col in categorical_columns:\n",
    "    df[\"affected\"] |= df[col] != df[col + \"_swapped\"]\n",
    "# Extract affected rows for analysis\n",
    "affected_rows = df[df[\"affected\"]]"
   ]
  },
  {
   "cell_type": "code",
   "execution_count": 9,
   "id": "d36cd778-7103-4037-9033-c4c569c12f4f",
   "metadata": {},
   "outputs": [
    {
     "name": "stdout",
     "output_type": "stream",
     "text": [
      "\n",
      " Affected Rows (First 10 rows where values changed):\n",
      "           workclass     education      marital_status         occupation  \\\n",
      "2            Private       HS-grad            Divorced  Handlers-cleaners   \n",
      "3            Private          11th  Married-civ-spouse  Handlers-cleaners   \n",
      "4            Private     Bachelors  Married-civ-spouse     Prof-specialty   \n",
      "5            Private       Masters  Married-civ-spouse    Exec-managerial   \n",
      "7   Self-emp-not-inc       HS-grad  Married-civ-spouse    Exec-managerial   \n",
      "10           Private  Some-college  Married-civ-spouse    Exec-managerial   \n",
      "13           Private    Assoc-acdm       Never-married              Sales   \n",
      "16  Self-emp-not-inc       HS-grad       Never-married    Farming-fishing   \n",
      "17           Private       HS-grad       Never-married  Machine-op-inspct   \n",
      "18           Private          11th  Married-civ-spouse              Sales   \n",
      "\n",
      "   workclass_swapped education_swapped marital_status_swapped  \\\n",
      "2            Private           HS-grad               Divorced   \n",
      "3            Private         Bachelors          Never-married   \n",
      "4            Private         Bachelors     Married-civ-spouse   \n",
      "5            Private           Masters     Married-civ-spouse   \n",
      "7            Private           HS-grad          Never-married   \n",
      "10           Private      Some-college     Married-civ-spouse   \n",
      "13           Private        Assoc-acdm     Married-civ-spouse   \n",
      "16           Private           HS-grad          Never-married   \n",
      "17           Private       Prof-school          Never-married   \n",
      "18           Private        Assoc-acdm     Married-civ-spouse   \n",
      "\n",
      "   occupation_swapped  \n",
      "2     Exec-managerial  \n",
      "3   Handlers-cleaners  \n",
      "4        Craft-repair  \n",
      "5      Prof-specialty  \n",
      "7     Exec-managerial  \n",
      "10              Sales  \n",
      "13              Sales  \n",
      "16    Farming-fishing  \n",
      "17  Machine-op-inspct  \n",
      "18              Sales  \n"
     ]
    }
   ],
   "source": [
    "# Display first few affected rows\n",
    "print(\"\\n Affected Rows (First 10 rows where values changed):\")\n",
    "print(affected_rows[categorical_columns + [col + \"_swapped\" for col in categorical_columns]].head(10))"
   ]
  },
  {
   "cell_type": "code",
   "execution_count": 10,
   "id": "a04198df-9570-44a3-ac4a-bb125ed2b643",
   "metadata": {},
   "outputs": [
    {
     "name": "stdout",
     "output_type": "stream",
     "text": [
      "\n",
      " Randomized Response (Data Swapping) Applied. File saved as 'adult_swapped.csv'.\n"
     ]
    }
   ],
   "source": [
    "# Save the swapped dataset\n",
    "df.to_csv(\"adult_swapped.csv\", index=False)\n",
    "\n",
    "print(\"\\n Randomized Response (Data Swapping) Applied. File saved as 'adult_swapped.csv'.\")"
   ]
  }
 ],
 "metadata": {
  "kernelspec": {
   "display_name": "Python 3 (ipykernel)",
   "language": "python",
   "name": "python3"
  },
  "language_info": {
   "codemirror_mode": {
    "name": "ipython",
    "version": 3
   },
   "file_extension": ".py",
   "mimetype": "text/x-python",
   "name": "python",
   "nbconvert_exporter": "python",
   "pygments_lexer": "ipython3",
   "version": "3.13.1"
  }
 },
 "nbformat": 4,
 "nbformat_minor": 5
}
